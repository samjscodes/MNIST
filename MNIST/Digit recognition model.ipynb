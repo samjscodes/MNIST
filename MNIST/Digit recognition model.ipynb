{
 "cells": [
  {
   "cell_type": "markdown",
   "id": "e38206a6",
   "metadata": {},
   "source": [
    "# Digit recognition model\n",
    "\n",
    "For this personal project, I aim to create an effective neural network that can classify handwritten digits. To get started, I have chosen the MNIST dataset, which is a widely used benchmark for digit recognition. Initially, I will build a basic feedforward neural network as the foundation of my model. As I progress, I will explore various architectures, activation functions, and optimizers. By doing so, I hope to gain a deeper understanding of how these choices impact the performance and accuracy of the models."
   ]
  },
  {
   "cell_type": "markdown",
   "id": "4b1235b9",
   "metadata": {},
   "source": [
    "## MNIST\n"
   ]
  },
  {
   "cell_type": "code",
   "execution_count": null,
   "id": "f685894f",
   "metadata": {},
   "outputs": [],
   "source": []
  }
 ],
 "metadata": {
  "kernelspec": {
   "display_name": "Python 3 (ipykernel)",
   "language": "python",
   "name": "python3"
  },
  "language_info": {
   "codemirror_mode": {
    "name": "ipython",
    "version": 3
   },
   "file_extension": ".py",
   "mimetype": "text/x-python",
   "name": "python",
   "nbconvert_exporter": "python",
   "pygments_lexer": "ipython3",
   "version": "3.11.3"
  }
 },
 "nbformat": 4,
 "nbformat_minor": 5
}
